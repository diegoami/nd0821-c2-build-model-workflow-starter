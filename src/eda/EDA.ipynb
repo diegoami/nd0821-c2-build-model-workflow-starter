{
 "cells": [
  {
   "cell_type": "markdown",
   "id": "4ecac0aa",
   "metadata": {},
   "source": [
    "## ANALYSIS of AirBnb's NYC rental dataset\n",
    "Extracting relevant information from the Airbnb NYC rental dataset\n",
    "* to find outliers and remove them from the modelling pipeline\n",
    "* to understand what features can be extracted, manipulated or converted\n",
    "* to find out what features might be useful for creating a model pipeline"
   ]
  },
  {
   "cell_type": "code",
   "execution_count": 2,
   "id": "9f5c6223",
   "metadata": {},
   "outputs": [
    {
     "data": {
      "text/html": [
       "Finishing last run (ID:3fx0tymt) before initializing another..."
      ],
      "text/plain": [
       "<IPython.core.display.HTML object>"
      ]
     },
     "metadata": {},
     "output_type": "display_data"
    },
    {
     "data": {
      "text/html": [
       "<br/>Waiting for W&B process to finish, PID 32027<br/>Program ended successfully."
      ],
      "text/plain": [
       "<IPython.core.display.HTML object>"
      ]
     },
     "metadata": {},
     "output_type": "display_data"
    },
    {
     "data": {
      "application/vnd.jupyter.widget-view+json": {
       "model_id": "",
       "version_major": 2,
       "version_minor": 0
      },
      "text/plain": [
       "VBox(children=(Label(value=' 0.02MB of 0.02MB uploaded (0.01MB deduped)\\r'), FloatProgress(value=1.0, max=1.0)…"
      ]
     },
     "metadata": {},
     "output_type": "display_data"
    },
    {
     "data": {
      "text/html": [
       "Find user logs for this run at: <code>/home/diego/projects/ud_mlops/nd0821-c2-build-model-workflow-starter/src/eda/wandb/run-20220604_213543-3fx0tymt/logs/debug.log</code>"
      ],
      "text/plain": [
       "<IPython.core.display.HTML object>"
      ]
     },
     "metadata": {},
     "output_type": "display_data"
    },
    {
     "data": {
      "text/html": [
       "Find internal logs for this run at: <code>/home/diego/projects/ud_mlops/nd0821-c2-build-model-workflow-starter/src/eda/wandb/run-20220604_213543-3fx0tymt/logs/debug-internal.log</code>"
      ],
      "text/plain": [
       "<IPython.core.display.HTML object>"
      ]
     },
     "metadata": {},
     "output_type": "display_data"
    },
    {
     "data": {
      "text/html": [
       "Synced 6 W&B file(s), 0 media file(s), 2 artifact file(s) and 1 other file(s)"
      ],
      "text/plain": [
       "<IPython.core.display.HTML object>"
      ]
     },
     "metadata": {},
     "output_type": "display_data"
    },
    {
     "data": {
      "text/html": [
       "\n",
       "                    <br/>Synced <strong style=\"color:#cdcd00\">mild-meadow-33</strong>: <a href=\"https://wandb.ai/diegoamisteria/nyc_airbnb/runs/3fx0tymt\" target=\"_blank\">https://wandb.ai/diegoamisteria/nyc_airbnb/runs/3fx0tymt</a><br/>\n",
       "                "
      ],
      "text/plain": [
       "<IPython.core.display.HTML object>"
      ]
     },
     "metadata": {},
     "output_type": "display_data"
    },
    {
     "data": {
      "text/html": [
       "...Successfully finished last run (ID:3fx0tymt). Initializing new run:<br/><br/>"
      ],
      "text/plain": [
       "<IPython.core.display.HTML object>"
      ]
     },
     "metadata": {},
     "output_type": "display_data"
    },
    {
     "name": "stderr",
     "output_type": "stream",
     "text": [
      "\u001b[34m\u001b[1mwandb\u001b[0m: wandb version 0.12.17 is available!  To upgrade, please run:\n",
      "\u001b[34m\u001b[1mwandb\u001b[0m:  $ pip install wandb --upgrade\n"
     ]
    },
    {
     "data": {
      "text/html": [
       "\n",
       "                Tracking run with wandb version 0.10.31<br/>\n",
       "                Syncing run <strong style=\"color:#cdcd00\">effortless-haze-34</strong> to <a href=\"https://wandb.ai\" target=\"_blank\">Weights & Biases</a> <a href=\"https://docs.wandb.com/integrations/jupyter.html\" target=\"_blank\">(Documentation)</a>.<br/>\n",
       "                Project page: <a href=\"https://wandb.ai/diegoamisteria/nyc_airbnb\" target=\"_blank\">https://wandb.ai/diegoamisteria/nyc_airbnb</a><br/>\n",
       "                Run page: <a href=\"https://wandb.ai/diegoamisteria/nyc_airbnb/runs/m1lzd5wr\" target=\"_blank\">https://wandb.ai/diegoamisteria/nyc_airbnb/runs/m1lzd5wr</a><br/>\n",
       "                Run data is saved locally in <code>/home/diego/projects/ud_mlops/nd0821-c2-build-model-workflow-starter/src/eda/wandb/run-20220604_213548-m1lzd5wr</code><br/><br/>\n",
       "            "
      ],
      "text/plain": [
       "<IPython.core.display.HTML object>"
      ]
     },
     "metadata": {},
     "output_type": "display_data"
    }
   ],
   "source": [
    "import wandb\n",
    "import pandas as pd\n",
    "\n",
    "# login and retrieve a sample of the data\n",
    "run = wandb.init(project=\"nyc_airbnb\", group=\"eda\", save_code=True)\n",
    "local_path = wandb.use_artifact(\"sample.csv:latest\").file()\n",
    "df = pd.read_csv(local_path)"
   ]
  },
  {
   "cell_type": "markdown",
   "id": "b3319ff0",
   "metadata": {},
   "source": [
    "**Now df contains the airbnb new york city rental dataset**"
   ]
  },
  {
   "cell_type": "code",
   "execution_count": 3,
   "id": "1871ebb5",
   "metadata": {},
   "outputs": [
    {
     "data": {
      "application/vnd.jupyter.widget-view+json": {
       "model_id": "94c4871eb6ee42e5a344e742fe8becb3",
       "version_major": 2,
       "version_minor": 0
      },
      "text/plain": [
       "Summarize dataset:   0%|          | 0/29 [00:00<?, ?it/s]"
      ]
     },
     "metadata": {},
     "output_type": "display_data"
    },
    {
     "data": {
      "application/vnd.jupyter.widget-view+json": {
       "model_id": "11b818c289584556bbcaeb313e20ecf8",
       "version_major": 2,
       "version_minor": 0
      },
      "text/plain": [
       "Generate report structure:   0%|          | 0/1 [00:00<?, ?it/s]"
      ]
     },
     "metadata": {},
     "output_type": "display_data"
    },
    {
     "data": {
      "application/vnd.jupyter.widget-view+json": {
       "model_id": "",
       "version_major": 2,
       "version_minor": 0
      },
      "text/plain": [
       "Render widgets:   0%|          | 0/1 [00:00<?, ?it/s]"
      ]
     },
     "metadata": {},
     "output_type": "display_data"
    },
    {
     "data": {
      "application/vnd.jupyter.widget-view+json": {
       "model_id": "2172fb14995b40a1be31004ab4b513b5",
       "version_major": 2,
       "version_minor": 0
      },
      "text/plain": [
       "VBox(children=(Tab(children=(Tab(children=(GridBox(children=(VBox(children=(GridspecLayout(children=(HTML(valu…"
      ]
     },
     "metadata": {},
     "output_type": "display_data"
    }
   ],
   "source": [
    "import pandas_profiling\n",
    "\n",
    "from markupsafe import escape\n",
    "\n",
    "# produces a pandas profiling report of the sample dataframe\n",
    "profile = pandas_profiling.ProfileReport(df)\n",
    "profile.to_widgets()"
   ]
  },
  {
   "cell_type": "markdown",
   "id": "7c75a4f2",
   "metadata": {},
   "source": [
    "# Analyzing the results of profiling with pandas\n",
    "\n",
    "## General\n",
    "\n",
    "There are about 50k data observations, and the following variables \n",
    "\n",
    "## Variables\n",
    "\n",
    "* _name_ is a text field, description, that has a very high distinct value and is a good candidate for NLP analysis, as it seems to contain relevant information\n",
    "* _id_ and _host_id_ are high cardinality identifiers which are not to be used as features\n",
    "* _host_name_ is a high cardinality text field which does not seem to be useful as a feature\n",
    "* _neighborhood_group_ and _neighborhood_ are categorical features which might be useful as features. *Neighborhood* has a high cardinality, though, and probably less useful\n",
    "* _latitude_ and _longitude_ are numerical features that might be useful as features. Values in the middle seem to have higher price\n",
    "* _room_type_ is categorical and influences the price\n",
    "* _price_ is the target variable. It has some extreme, unfrequent values that should be removed\n",
    "* _minimum_nights_, _calculated_host_listings_count_ are numerical values that are too highly skewed to have any relevant influence as features\n",
    "* _number_of_reviews_, _availability_365_, _reviews_per_month_ are numerical values that seem to somewhat influence the price, but have a lot of null values\n",
    "* _last_review_ is supposed to contain a data, but instead it contains a string, categorical representation \n",
    "\n",
    "\n",
    "## Conclusions\n",
    "\n",
    "Some of the numerical and categorical features influence the price but might not be enough to train a model. Therefore it is necessary to include a NLP analysis of _name_ in the model pipeline\n"
   ]
  },
  {
   "cell_type": "markdown",
   "id": "2c38668b",
   "metadata": {},
   "source": [
    "## Interventions\n",
    "\n",
    "* _price_ has extreme outlier values, that should be removed\n",
    "* _last_review_ is not useful as a categorical feature, should be converted to a date"
   ]
  },
  {
   "cell_type": "code",
   "execution_count": 7,
   "id": "1121249d",
   "metadata": {},
   "outputs": [],
   "source": [
    "# Drop outlier values for prices\n",
    "min_price = 10\n",
    "max_price = 350\n",
    "idx = df['price'].between(min_price, max_price)\n",
    "df = df[idx].copy()\n",
    "\n",
    "# Convert last_review to datetime\n",
    "df['last_review'] = pd.to_datetime(df['last_review'])"
   ]
  },
  {
   "cell_type": "markdown",
   "id": "3f13cc3c",
   "metadata": {},
   "source": [
    "## Second review\n",
    "\n",
    "We review data after the last change"
   ]
  },
  {
   "cell_type": "code",
   "execution_count": 8,
   "id": "33ee01e7",
   "metadata": {},
   "outputs": [
    {
     "name": "stdout",
     "output_type": "stream",
     "text": [
      "<class 'pandas.core.frame.DataFrame'>\n",
      "Int64Index: 46428 entries, 0 to 48894\n",
      "Data columns (total 16 columns):\n",
      " #   Column                          Non-Null Count  Dtype         \n",
      "---  ------                          --------------  -----         \n",
      " 0   id                              46428 non-null  int64         \n",
      " 1   name                            46413 non-null  object        \n",
      " 2   host_id                         46428 non-null  int64         \n",
      " 3   host_name                       46407 non-null  object        \n",
      " 4   neighbourhood_group             46428 non-null  object        \n",
      " 5   neighbourhood                   46428 non-null  object        \n",
      " 6   latitude                        46428 non-null  float64       \n",
      " 7   longitude                       46428 non-null  float64       \n",
      " 8   room_type                       46428 non-null  object        \n",
      " 9   price                           46428 non-null  int64         \n",
      " 10  minimum_nights                  46428 non-null  int64         \n",
      " 11  number_of_reviews               46428 non-null  int64         \n",
      " 12  last_review                     37246 non-null  datetime64[ns]\n",
      " 13  reviews_per_month               37246 non-null  float64       \n",
      " 14  calculated_host_listings_count  46428 non-null  int64         \n",
      " 15  availability_365                46428 non-null  int64         \n",
      "dtypes: datetime64[ns](1), float64(3), int64(7), object(5)\n",
      "memory usage: 6.0+ MB\n"
     ]
    }
   ],
   "source": [
    "df.info()"
   ]
  },
  {
   "cell_type": "code",
   "execution_count": 9,
   "id": "623b5c8b",
   "metadata": {},
   "outputs": [
    {
     "data": {
      "application/vnd.jupyter.widget-view+json": {
       "model_id": "16eaa08730454c9a85a6149af961ba9b",
       "version_major": 2,
       "version_minor": 0
      },
      "text/plain": [
       "Summarize dataset:   0%|          | 0/30 [00:00<?, ?it/s]"
      ]
     },
     "metadata": {},
     "output_type": "display_data"
    },
    {
     "data": {
      "application/vnd.jupyter.widget-view+json": {
       "model_id": "ba8360366ea44a64a4e2951bc671ec7d",
       "version_major": 2,
       "version_minor": 0
      },
      "text/plain": [
       "Generate report structure:   0%|          | 0/1 [00:00<?, ?it/s]"
      ]
     },
     "metadata": {},
     "output_type": "display_data"
    },
    {
     "data": {
      "application/vnd.jupyter.widget-view+json": {
       "model_id": "",
       "version_major": 2,
       "version_minor": 0
      },
      "text/plain": [
       "Render widgets:   0%|          | 0/1 [00:00<?, ?it/s]"
      ]
     },
     "metadata": {},
     "output_type": "display_data"
    },
    {
     "data": {
      "application/vnd.jupyter.widget-view+json": {
       "model_id": "e7c19bc35d9948a18adc235854e5eb62",
       "version_major": 2,
       "version_minor": 0
      },
      "text/plain": [
       "VBox(children=(Tab(children=(Tab(children=(GridBox(children=(VBox(children=(GridspecLayout(children=(HTML(valu…"
      ]
     },
     "metadata": {},
     "output_type": "display_data"
    }
   ],
   "source": [
    "# review after the last changes\n",
    "fprofile = pandas_profiling.ProfileReport(df)\n",
    "fprofile.to_widgets()"
   ]
  },
  {
   "cell_type": "markdown",
   "id": "688056be",
   "metadata": {},
   "source": [
    "## After review\n",
    "\n",
    "* _price_ 's extreme values are more frequent and much closer to the 5-th and 95-th percentiles\n",
    "* _last_review_ as a date is more usable, although still skewed and still not influencing the price. It might be useful to convert it to a numeric values, such as the day difference with today."
   ]
  },
  {
   "cell_type": "code",
   "execution_count": 11,
   "id": "1976f69f",
   "metadata": {},
   "outputs": [
    {
     "data": {
      "text/html": [
       "<br/>Waiting for W&B process to finish, PID 32188<br/>Program ended successfully."
      ],
      "text/plain": [
       "<IPython.core.display.HTML object>"
      ]
     },
     "metadata": {},
     "output_type": "display_data"
    },
    {
     "data": {
      "application/vnd.jupyter.widget-view+json": {
       "model_id": "",
       "version_major": 2,
       "version_minor": 0
      },
      "text/plain": [
       "VBox(children=(Label(value=' 0.00MB of 0.00MB uploaded (0.00MB deduped)\\r'), FloatProgress(value=1.0, max=1.0)…"
      ]
     },
     "metadata": {},
     "output_type": "display_data"
    },
    {
     "data": {
      "text/html": [
       "Find user logs for this run at: <code>/home/diego/projects/ud_mlops/nd0821-c2-build-model-workflow-starter/src/eda/wandb/run-20220604_213548-m1lzd5wr/logs/debug.log</code>"
      ],
      "text/plain": [
       "<IPython.core.display.HTML object>"
      ]
     },
     "metadata": {},
     "output_type": "display_data"
    },
    {
     "data": {
      "text/html": [
       "Find internal logs for this run at: <code>/home/diego/projects/ud_mlops/nd0821-c2-build-model-workflow-starter/src/eda/wandb/run-20220604_213548-m1lzd5wr/logs/debug-internal.log</code>"
      ],
      "text/plain": [
       "<IPython.core.display.HTML object>"
      ]
     },
     "metadata": {},
     "output_type": "display_data"
    },
    {
     "data": {
      "text/html": [
       "Synced 7 W&B file(s), 0 media file(s), 0 artifact file(s) and 0 other file(s)"
      ],
      "text/plain": [
       "<IPython.core.display.HTML object>"
      ]
     },
     "metadata": {},
     "output_type": "display_data"
    },
    {
     "data": {
      "text/html": [
       "\n",
       "                    <br/>Synced <strong style=\"color:#cdcd00\">effortless-haze-34</strong>: <a href=\"https://wandb.ai/diegoamisteria/nyc_airbnb/runs/m1lzd5wr\" target=\"_blank\">https://wandb.ai/diegoamisteria/nyc_airbnb/runs/m1lzd5wr</a><br/>\n",
       "                "
      ],
      "text/plain": [
       "<IPython.core.display.HTML object>"
      ]
     },
     "metadata": {},
     "output_type": "display_data"
    }
   ],
   "source": [
    "run.finish()\n"
   ]
  },
  {
   "cell_type": "code",
   "execution_count": null,
   "id": "c785ee33",
   "metadata": {},
   "outputs": [],
   "source": []
  }
 ],
 "metadata": {
  "kernelspec": {
   "display_name": "Python 3 (ipykernel)",
   "language": "python",
   "name": "python3"
  },
  "language_info": {
   "codemirror_mode": {
    "name": "ipython",
    "version": 3
   },
   "file_extension": ".py",
   "mimetype": "text/x-python",
   "name": "python",
   "nbconvert_exporter": "python",
   "pygments_lexer": "ipython3",
   "version": "3.9.12"
  }
 },
 "nbformat": 4,
 "nbformat_minor": 5
}
